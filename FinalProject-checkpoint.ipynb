{
 "cells": [
  {
   "cell_type": "code",
   "execution_count": 2,
   "id": "bfe43f9e",
   "metadata": {},
   "outputs": [],
   "source": [
    "import pandas as pd\n",
    "import numpy as np\n",
    "import os\n",
    "import IPython.display as ipd\n",
    "import librosa\n",
    "import librosa.display\n",
    "import matplotlib.pyplot as plt\n",
    "from sklearn.preprocessing import StandardScaler\n",
    "%matplotlib inline"
   ]
  },
  {
   "cell_type": "code",
   "execution_count": 3,
   "id": "a523b046",
   "metadata": {},
   "outputs": [
    {
     "data": {
      "text/html": [
       "<div>\n",
       "<style scoped>\n",
       "    .dataframe tbody tr th:only-of-type {\n",
       "        vertical-align: middle;\n",
       "    }\n",
       "\n",
       "    .dataframe tbody tr th {\n",
       "        vertical-align: top;\n",
       "    }\n",
       "\n",
       "    .dataframe thead th {\n",
       "        text-align: right;\n",
       "    }\n",
       "</style>\n",
       "<table border=\"1\" class=\"dataframe\">\n",
       "  <thead>\n",
       "    <tr style=\"text-align: right;\">\n",
       "      <th></th>\n",
       "      <th>filename</th>\n",
       "      <th>length</th>\n",
       "      <th>chroma_stft_mean</th>\n",
       "      <th>chroma_stft_var</th>\n",
       "      <th>rms_mean</th>\n",
       "      <th>rms_var</th>\n",
       "      <th>spectral_centroid_mean</th>\n",
       "      <th>spectral_centroid_var</th>\n",
       "      <th>spectral_bandwidth_mean</th>\n",
       "      <th>spectral_bandwidth_var</th>\n",
       "      <th>...</th>\n",
       "      <th>mfcc16_var</th>\n",
       "      <th>mfcc17_mean</th>\n",
       "      <th>mfcc17_var</th>\n",
       "      <th>mfcc18_mean</th>\n",
       "      <th>mfcc18_var</th>\n",
       "      <th>mfcc19_mean</th>\n",
       "      <th>mfcc19_var</th>\n",
       "      <th>mfcc20_mean</th>\n",
       "      <th>mfcc20_var</th>\n",
       "      <th>label</th>\n",
       "    </tr>\n",
       "  </thead>\n",
       "  <tbody>\n",
       "    <tr>\n",
       "      <th>0</th>\n",
       "      <td>blues.00000.wav</td>\n",
       "      <td>661794</td>\n",
       "      <td>0.350088</td>\n",
       "      <td>0.088757</td>\n",
       "      <td>0.130228</td>\n",
       "      <td>0.002827</td>\n",
       "      <td>1784.165850</td>\n",
       "      <td>129774.064525</td>\n",
       "      <td>2002.449060</td>\n",
       "      <td>85882.761315</td>\n",
       "      <td>...</td>\n",
       "      <td>52.420910</td>\n",
       "      <td>-1.690215</td>\n",
       "      <td>36.524071</td>\n",
       "      <td>-0.408979</td>\n",
       "      <td>41.597103</td>\n",
       "      <td>-2.303523</td>\n",
       "      <td>55.062923</td>\n",
       "      <td>1.221291</td>\n",
       "      <td>46.936035</td>\n",
       "      <td>blues</td>\n",
       "    </tr>\n",
       "    <tr>\n",
       "      <th>1</th>\n",
       "      <td>blues.00001.wav</td>\n",
       "      <td>661794</td>\n",
       "      <td>0.340914</td>\n",
       "      <td>0.094980</td>\n",
       "      <td>0.095948</td>\n",
       "      <td>0.002373</td>\n",
       "      <td>1530.176679</td>\n",
       "      <td>375850.073649</td>\n",
       "      <td>2039.036516</td>\n",
       "      <td>213843.755497</td>\n",
       "      <td>...</td>\n",
       "      <td>55.356403</td>\n",
       "      <td>-0.731125</td>\n",
       "      <td>60.314529</td>\n",
       "      <td>0.295073</td>\n",
       "      <td>48.120598</td>\n",
       "      <td>-0.283518</td>\n",
       "      <td>51.106190</td>\n",
       "      <td>0.531217</td>\n",
       "      <td>45.786282</td>\n",
       "      <td>blues</td>\n",
       "    </tr>\n",
       "    <tr>\n",
       "      <th>2</th>\n",
       "      <td>blues.00002.wav</td>\n",
       "      <td>661794</td>\n",
       "      <td>0.363637</td>\n",
       "      <td>0.085275</td>\n",
       "      <td>0.175570</td>\n",
       "      <td>0.002746</td>\n",
       "      <td>1552.811865</td>\n",
       "      <td>156467.643368</td>\n",
       "      <td>1747.702312</td>\n",
       "      <td>76254.192257</td>\n",
       "      <td>...</td>\n",
       "      <td>40.598766</td>\n",
       "      <td>-7.729093</td>\n",
       "      <td>47.639427</td>\n",
       "      <td>-1.816407</td>\n",
       "      <td>52.382141</td>\n",
       "      <td>-3.439720</td>\n",
       "      <td>46.639660</td>\n",
       "      <td>-2.231258</td>\n",
       "      <td>30.573025</td>\n",
       "      <td>blues</td>\n",
       "    </tr>\n",
       "    <tr>\n",
       "      <th>3</th>\n",
       "      <td>blues.00003.wav</td>\n",
       "      <td>661794</td>\n",
       "      <td>0.404785</td>\n",
       "      <td>0.093999</td>\n",
       "      <td>0.141093</td>\n",
       "      <td>0.006346</td>\n",
       "      <td>1070.106615</td>\n",
       "      <td>184355.942417</td>\n",
       "      <td>1596.412872</td>\n",
       "      <td>166441.494769</td>\n",
       "      <td>...</td>\n",
       "      <td>44.427753</td>\n",
       "      <td>-3.319597</td>\n",
       "      <td>50.206673</td>\n",
       "      <td>0.636965</td>\n",
       "      <td>37.319130</td>\n",
       "      <td>-0.619121</td>\n",
       "      <td>37.259739</td>\n",
       "      <td>-3.407448</td>\n",
       "      <td>31.949339</td>\n",
       "      <td>blues</td>\n",
       "    </tr>\n",
       "    <tr>\n",
       "      <th>4</th>\n",
       "      <td>blues.00004.wav</td>\n",
       "      <td>661794</td>\n",
       "      <td>0.308526</td>\n",
       "      <td>0.087841</td>\n",
       "      <td>0.091529</td>\n",
       "      <td>0.002303</td>\n",
       "      <td>1835.004266</td>\n",
       "      <td>343399.939274</td>\n",
       "      <td>1748.172116</td>\n",
       "      <td>88445.209036</td>\n",
       "      <td>...</td>\n",
       "      <td>86.099236</td>\n",
       "      <td>-5.454034</td>\n",
       "      <td>75.269707</td>\n",
       "      <td>-0.916874</td>\n",
       "      <td>53.613918</td>\n",
       "      <td>-4.404827</td>\n",
       "      <td>62.910812</td>\n",
       "      <td>-11.703234</td>\n",
       "      <td>55.195160</td>\n",
       "      <td>blues</td>\n",
       "    </tr>\n",
       "  </tbody>\n",
       "</table>\n",
       "<p>5 rows × 60 columns</p>\n",
       "</div>"
      ],
      "text/plain": [
       "          filename  length  chroma_stft_mean  chroma_stft_var  rms_mean  \\\n",
       "0  blues.00000.wav  661794          0.350088         0.088757  0.130228   \n",
       "1  blues.00001.wav  661794          0.340914         0.094980  0.095948   \n",
       "2  blues.00002.wav  661794          0.363637         0.085275  0.175570   \n",
       "3  blues.00003.wav  661794          0.404785         0.093999  0.141093   \n",
       "4  blues.00004.wav  661794          0.308526         0.087841  0.091529   \n",
       "\n",
       "    rms_var  spectral_centroid_mean  spectral_centroid_var  \\\n",
       "0  0.002827             1784.165850          129774.064525   \n",
       "1  0.002373             1530.176679          375850.073649   \n",
       "2  0.002746             1552.811865          156467.643368   \n",
       "3  0.006346             1070.106615          184355.942417   \n",
       "4  0.002303             1835.004266          343399.939274   \n",
       "\n",
       "   spectral_bandwidth_mean  spectral_bandwidth_var  ...  mfcc16_var  \\\n",
       "0              2002.449060            85882.761315  ...   52.420910   \n",
       "1              2039.036516           213843.755497  ...   55.356403   \n",
       "2              1747.702312            76254.192257  ...   40.598766   \n",
       "3              1596.412872           166441.494769  ...   44.427753   \n",
       "4              1748.172116            88445.209036  ...   86.099236   \n",
       "\n",
       "   mfcc17_mean  mfcc17_var  mfcc18_mean  mfcc18_var  mfcc19_mean  mfcc19_var  \\\n",
       "0    -1.690215   36.524071    -0.408979   41.597103    -2.303523   55.062923   \n",
       "1    -0.731125   60.314529     0.295073   48.120598    -0.283518   51.106190   \n",
       "2    -7.729093   47.639427    -1.816407   52.382141    -3.439720   46.639660   \n",
       "3    -3.319597   50.206673     0.636965   37.319130    -0.619121   37.259739   \n",
       "4    -5.454034   75.269707    -0.916874   53.613918    -4.404827   62.910812   \n",
       "\n",
       "   mfcc20_mean  mfcc20_var  label  \n",
       "0     1.221291   46.936035  blues  \n",
       "1     0.531217   45.786282  blues  \n",
       "2    -2.231258   30.573025  blues  \n",
       "3    -3.407448   31.949339  blues  \n",
       "4   -11.703234   55.195160  blues  \n",
       "\n",
       "[5 rows x 60 columns]"
      ]
     },
     "execution_count": 3,
     "metadata": {},
     "output_type": "execute_result"
    }
   ],
   "source": [
    "audio_dataset_path ='C:\\\\Users\\\\Acer\\\\Genre Classifier\\\\Dataset\\\\genres_original\\\\'\n",
    "metadata = pd.read_csv('C:\\\\Users\\\\Acer\\\\Genre Classifier\\\\Dataset\\\\features_30_sec.csv')\n",
    "metadata.head()"
   ]
  },
  {
   "cell_type": "code",
   "execution_count": 4,
   "id": "6d8b83a3",
   "metadata": {},
   "outputs": [
    {
     "data": {
      "image/png": "[encoded data removed]",
      "text/plain": [
       "<Figure size 1000x300 with 1 Axes>"
      ]
     },
     "metadata": {},
     "output_type": "display_data"
    }
   ],
   "source": [
    "audio_path = 'C:\\\\Users\\\\Acer\\\\Genre Classifier\\\\Dataset\\\\genres_original\\\\blues\\\\blues.00001.wav'\n",
    "y, sr = librosa.load(audio_path, sr=None, duration=30)\n",
    "\n",
    "# Plot wave\n",
    "plt.figure(figsize=(10, 3))\n",
    "librosa.display.waveshow(y, sr=sr)\n",
    "plt.title('Waveform')\n",
    "plt.xlabel('Time (s)')\n",
    "plt.ylabel('Amplitude')\n",
    "plt.tight_layout()\n",
    "plt.show()"
   ]
  },
  {
   "cell_type": "code",
   "execution_count": 5,
   "id": "891abc1b",
   "metadata": {},
   "outputs": [
    {
     "name": "stderr",
     "output_type": "stream",
     "text": [
      "<__array_function__ internals>:180: VisibleDeprecationWarning: Creating an ndarray from ragged nested sequences (which is a list-or-tuple of lists-or-tuples-or ndarrays with different lengths or shapes) is deprecated. If you meant to do this, you must specify 'dtype=object' when creating the ndarray.\n"
     ]
    }
   ],
   "source": [
    "# Fungsi untuk ekstraksi fitur ritme\n",
    "def extract_rhythm_features(y, sr):\n",
    "    tempo, _ = librosa.beat.beat_track(y=y, sr=sr)\n",
    "    onset_env = librosa.onset.onset_strength(y=y, sr=sr)\n",
    "    return tempo, np.mean(onset_env), np.std(onset_env)\n",
    "\n",
    "# Fungsi untuk ekstraksi fitur frekuensi\n",
    "def extract_frequency_features(y, sr, n_mfcc=20):\n",
    "    mfcc = librosa.feature.mfcc(y=y, sr=sr, n_mfcc=n_mfcc)\n",
    "    chroma = librosa.feature.chroma_stft(y=y, sr=sr)\n",
    "    spectral_contrast = librosa.feature.spectral_contrast(y=y, sr=sr)\n",
    "    spectral_centroid = librosa.feature.spectral_centroid(y=y, sr=sr)\n",
    "    return (\n",
    "        np.mean(mfcc.T, axis=0),\n",
    "        np.mean(chroma.T, axis=0),\n",
    "        np.mean(spectral_contrast.T, axis=0),\n",
    "        np.mean(spectral_centroid.T, axis=0)\n",
    "    )\n",
    "\n",
    "# Fungsi untuk ekstraksi fitur F0\n",
    "def extract_f0_features(y, sr, f0_min=50, f0_max=400):\n",
    "    pitches, magnitudes = librosa.core.piptrack(y=y, sr=sr, fmin=f0_min, fmax=f0_max, threshold=0.75)\n",
    "    f0_values = [pitches[magnitudes[:, i].argmax(), i] for i in range(magnitudes.shape[1]) if magnitudes[:, i].any()]\n",
    "    if f0_values:\n",
    "        f0_mean = np.mean(f0_values)\n",
    "        f0_std = np.std(f0_values)\n",
    "    else:\n",
    "        f0_mean = 0\n",
    "        f0_std = 0\n",
    "    return f0_mean, f0_std\n",
    "\n",
    "# Fungsi untuk ekstraksi fitur gabungan\n",
    "def extract_features(y, sr, num_segments=5, n_mfcc=20, n_fft=2048, hop_length=512):\n",
    "    num_samples_per_segment = int(len(y) / num_segments)\n",
    "    all_features = []\n",
    "    \n",
    "    for s in range(num_segments):\n",
    "        start_sample = s * num_samples_per_segment\n",
    "        end_sample = start_sample + num_samples_per_segment\n",
    "        segment = y[start_sample:end_sample]\n",
    "        \n",
    "        # Ekstraksi fitur frekuensi\n",
    "        mfcc_mean, chroma_mean, spectral_contrast_mean, spectral_centroid_mean = extract_frequency_features(segment, sr, n_mfcc)\n",
    "        \n",
    "        # Ekstraksi fitur ritme\n",
    "        tempo, onset_env_mean, onset_env_std = extract_rhythm_features(segment, sr)\n",
    "        \n",
    "        # Ekstraksi fitur F0\n",
    "        f0_mean, f0_std = extract_f0_features(segment, sr)\n",
    "        \n",
    "        # Gabungkan semua fitur\n",
    "        features = np.concatenate([\n",
    "            mfcc_mean, chroma_mean, spectral_contrast_mean, spectral_centroid_mean, \n",
    "            [tempo, onset_env_mean, onset_env_std, f0_mean, f0_std]\n",
    "        ])\n",
    "        all_features.append(features)\n",
    "    \n",
    "    # Hitung rata-rata dari semua fitur di setiap segmen\n",
    "    all_features_mean = np.mean(all_features, axis=0)\n",
    "    return all_features_mean\n",
    "\n",
    "# Path ke dataset audio\n",
    "audio_dataset_path = 'C:\\\\Users\\\\Acer\\\\Genre Classifier\\\\Dataset\\\\genres_original\\\\'\n",
    "# List untuk menyimpan fitur-fitur dan label\n",
    "features = []\n",
    "labels = []\n",
    "\n",
    "# Ekstraksi fitur dari setiap file audio\n",
    "genres = os.listdir(audio_dataset_path)\n",
    "for genre in genres:\n",
    "    genre_dir = os.path.join(audio_dataset_path, genre)\n",
    "    for filename in os.listdir(genre_dir):\n",
    "        file_path = os.path.join(genre_dir, filename)\n",
    "        y, sr = librosa.load(file_path, sr=None, duration=30)\n",
    "        feature_vector = extract_features(y, sr)\n",
    "        features.append(feature_vector)\n",
    "        labels.append(genre)"
   ]
  },
  {
   "cell_type": "code",
   "execution_count": 6,
   "id": "5ddaf551",
   "metadata": {},
   "outputs": [
    {
     "name": "stdout",
     "output_type": "stream",
     "text": [
      "        mfcc1       mfcc2      mfcc3      mfcc4      mfcc5      mfcc6  \\\n",
      "0 -114.727962  123.070630 -20.637211  43.801038  -7.827363  20.037862   \n",
      "1 -209.349023  126.499948   6.502518  38.083374   0.684125  23.506382   \n",
      "2  -91.770888  141.669666 -30.168092  32.832043 -15.086376  26.819748   \n",
      "3 -200.175000  150.883890   4.994569  27.470382   1.244492  14.709311   \n",
      "4 -163.015326  129.748964 -38.970780  25.483820 -35.725189  14.002819   \n",
      "\n",
      "       mfcc7      mfcc8      mfcc9     mfcc10  ...  spectral_contrast5  \\\n",
      "0 -15.122339  16.688139 -13.609030  12.244756  ...           18.867374   \n",
      "1 -10.437050  25.142950 -11.709302  13.363653  ...           18.274742   \n",
      "2 -14.713620  12.666819 -12.760822  10.698067  ...           20.400707   \n",
      "3  -5.196705   9.654330  -1.060207   8.458440  ...           18.453574   \n",
      "4 -26.356934   3.435840 -14.476887   3.764292  ...           20.764191   \n",
      "\n",
      "   spectral_contrast6  spectral_contrast7  spectral_centroid  \\\n",
      "0           17.180489           39.417704        1784.873440   \n",
      "1           17.511319           37.278119        1531.214312   \n",
      "2           18.290249           38.762958        1551.905672   \n",
      "3           16.799322           34.045899        1070.302272   \n",
      "4           19.702854           37.157553        1834.859295   \n",
      "\n",
      "                  tempo  onset_env_mean  onset_env_std     f0_mean     f0_std  \\\n",
      "0        [124.27734375]        1.380320       1.478614  191.529346  95.849829   \n",
      "1   [75.58415833755062]        1.451689       2.027344  150.284863  92.803241   \n",
      "2      [161.4990234375]        1.620837       1.914886  172.883667  87.054962   \n",
      "3  [106.72065548780488]        1.245146       1.741949  107.798535  65.543555   \n",
      "4  [137.51027960526318]        1.645123       1.974961  272.797900  50.731506   \n",
      "\n",
      "   label  \n",
      "0  blues  \n",
      "1  blues  \n",
      "2  blues  \n",
      "3  blues  \n",
      "4  blues  \n",
      "\n",
      "[5 rows x 46 columns]\n"
     ]
    }
   ],
   "source": [
    "# Konversi daftar fitur dan label menjadi DataFrame\n",
    "columns = [f'mfcc{i}' for i in range(1, 21)] + [f'chroma{i}' for i in range(1, 13)] + \\\n",
    "          [f'spectral_contrast{i}' for i in range(1, 8)] + ['spectral_centroid'] + \\\n",
    "          ['tempo', 'onset_env_mean', 'onset_env_std', 'f0_mean', 'f0_std']\n",
    "df = pd.DataFrame(features, columns=columns)\n",
    "df['label'] = labels\n",
    "\n",
    "# Simpan DataFrame ke file CSV\n",
    "df.to_csv('features_labels.csv', index=False)\n",
    "print(df.head())"
   ]
  },
  {
   "cell_type": "code",
   "execution_count": 7,
   "id": "b228d39f",
   "metadata": {},
   "outputs": [
    {
     "name": "stdout",
     "output_type": "stream",
     "text": [
      "      mfcc1     mfcc2     mfcc3     mfcc4     mfcc5     mfcc6     mfcc7  \\\n",
      "0  0.301578  0.700885 -0.501717  0.413672 -0.494456  0.415693 -0.941552   \n",
      "1 -0.634731  0.807239  0.738182  0.070645  0.194534  0.709048 -0.478976   \n",
      "2  0.528746  1.277701 -0.937143 -0.244404 -1.082060  0.989281 -0.901199   \n",
      "3 -0.543950  1.563464  0.669290 -0.566073  0.239894 -0.034977  0.038400   \n",
      "4 -0.176242  0.908001 -1.339300 -0.685255 -2.752735 -0.094730 -2.050736   \n",
      "\n",
      "      mfcc8     mfcc9    mfcc10  ...  spectral_contrast5  spectral_contrast6  \\\n",
      "0  0.588223 -0.738407  0.520371  ...           -0.160076           -0.712220   \n",
      "1  1.395941 -0.513466  0.660179  ...           -0.393006           -0.563375   \n",
      "2  0.204053 -0.637973  0.327110  ...            0.442590           -0.212926   \n",
      "3 -0.083741  0.747465  0.047266  ...           -0.322718           -0.883711   \n",
      "4 -0.677815 -0.841168 -0.539275  ...            0.585455            0.422622   \n",
      "\n",
      "   spectral_contrast7  spectral_centroid     tempo  onset_env_mean  \\\n",
      "0            0.974533          -0.583406  0.152912       -0.096347   \n",
      "1            0.782975          -0.938299 -2.305793        0.117486   \n",
      "2            0.915913          -0.909350  2.032376        0.624284   \n",
      "3            0.493594          -1.583157 -0.733593       -0.501353   \n",
      "4            0.772181          -0.513471  0.821093        0.697050   \n",
      "\n",
      "   onset_env_std   f0_mean    f0_std  label  \n",
      "0      -0.090883  0.556394  0.900500  blues  \n",
      "1       0.730552 -0.255077  0.754259  blues  \n",
      "2       0.562205  0.189547  0.478331  blues  \n",
      "3       0.303324 -1.090980 -0.554252  blues  \n",
      "4       0.652137  2.155324 -1.265255  blues  \n",
      "\n",
      "[5 rows x 46 columns]\n"
     ]
    },
    {
     "data": {
      "text/plain": [
       "['scaler.pkl']"
      ]
     },
     "execution_count": 7,
     "metadata": {},
     "output_type": "execute_result"
    }
   ],
   "source": [
    "import joblib\n",
    "# Normalisasi data\n",
    "scaler = StandardScaler()\n",
    "X = df.drop('label', axis=1)\n",
    "X_normalized = scaler.fit_transform(X)\n",
    "df_normalized = pd.DataFrame(X_normalized, columns=X.columns)\n",
    "df_normalized['label'] = df['label']\n",
    "\n",
    "# Simpan data fitur yang telah dinormalisasi\n",
    "df_normalized.to_csv('features_labels_normalized.csv', index=False)\n",
    "print(df_normalized.head())\n",
    "\n",
    "# Simpan scaler ke dalam file scaler.pkl\n",
    "joblib.dump(scaler, 'scaler.pkl')"
   ]
  },
  {
   "cell_type": "code",
   "execution_count": 8,
   "id": "2ca6474c",
   "metadata": {},
   "outputs": [
    {
     "name": "stdout",
     "output_type": "stream",
     "text": [
      "Cross-validation scores: [0.51  0.46  0.505 0.515 0.51 ]\n",
      "Mean cross-validation score: 0.50\n",
      "Training Accuracy: 1.00\n",
      "Testing Accuracy: 0.45\n",
      "    File Index Actual Genre Predicted Genre\n",
      "0          521         jazz            jazz\n",
      "1          737          pop          hiphop\n",
      "2          740          pop            jazz\n",
      "3          660        metal          hiphop\n",
      "4          411       hiphop           blues\n",
      "5          678        metal           metal\n",
      "6          626        metal           metal\n",
      "7          513         jazz            rock\n",
      "8          859       reggae          reggae\n",
      "9          136    classical       classical\n",
      "10         811       reggae          reggae\n",
      "11          76        blues            jazz\n",
      "12         636        metal           metal\n",
      "13         973         rock           blues\n",
      "14         938         rock           disco\n",
      "15         899       reggae           disco\n",
      "16         280      country           disco\n",
      "17         883       reggae            jazz\n",
      "18         761          pop            rock\n",
      "19         319        disco           blues\n",
      "\n",
      "Classification Report:\n",
      "              precision    recall  f1-score   support\n",
      "\n",
      "       blues       0.33      0.35      0.34        20\n",
      "   classical       0.77      0.77      0.77        13\n",
      "     country       0.45      0.37      0.41        27\n",
      "       disco       0.24      0.24      0.24        21\n",
      "      hiphop       0.25      0.40      0.31        15\n",
      "        jazz       0.48      0.64      0.55        22\n",
      "       metal       0.91      0.84      0.87        25\n",
      "         pop       0.56      0.38      0.45        13\n",
      "      reggae       0.36      0.35      0.36        23\n",
      "        rock       0.25      0.19      0.22        21\n",
      "\n",
      "    accuracy                           0.45       200\n",
      "   macro avg       0.46      0.45      0.45       200\n",
      "weighted avg       0.46      0.45      0.45       200\n",
      "\n"
     ]
    },
    {
     "data": {
      "image/png": "[encoded data removed]",
      "text/plain": [
       "<Figure size 1000x700 with 2 Axes>"
      ]
     },
     "metadata": {},
     "output_type": "display_data"
    }
   ],
   "source": [
    "import joblib\n",
    "import pandas as pd\n",
    "from sklearn.metrics import accuracy_score, classification_report, confusion_matrix\n",
    "import seaborn as sns\n",
    "import matplotlib.pyplot as plt\n",
    "from sklearn.model_selection import train_test_split, cross_val_score, StratifiedKFold\n",
    "from sklearn.preprocessing import LabelEncoder\n",
    "from sklearn.tree import DecisionTreeClassifier\n",
    "\n",
    "# Load the saved model and label encoder\n",
    "classifier = joblib.load('decision_tree_classifier.pkl')\n",
    "label_encoder = joblib.load('label_encoder.pkl')\n",
    "\n",
    "# Load the normalized dataset\n",
    "df = pd.read_csv('features_labels_normalized.csv')\n",
    "\n",
    "# Pisahkan fitur dan label\n",
    "X = df.drop('label', axis=1)\n",
    "y = df['label']\n",
    "\n",
    "# Encode labels to integers\n",
    "label_encoder = LabelEncoder()\n",
    "y_encoded = label_encoder.fit_transform(y)\n",
    "\n",
    "# Inisialisasi cross-validation dengan 5 fold\n",
    "cv = StratifiedKFold(n_splits=5, shuffle=True, random_state=42)\n",
    "\n",
    "# Hitung performa cross-validation\n",
    "cv_classifier = DecisionTreeClassifier(random_state=42)\n",
    "cross_val_scores = cross_val_score(cv_classifier, X, y_encoded, cv=cv, scoring='accuracy')\n",
    "\n",
    "print(f'Cross-validation scores: {cross_val_scores}')\n",
    "print(f'Mean cross-validation score: {cross_val_scores.mean():.2f}')\n",
    "\n",
    "# Split data into training and testing sets\n",
    "X_train, X_test, y_train, y_test = train_test_split(X, y_encoded, test_size=0.2, random_state=42)\n",
    "\n",
    "# Latih model pada data training\n",
    "classifier.fit(X_train, y_train)\n",
    "\n",
    "# Prediksi pada data training\n",
    "y_train_pred = classifier.predict(X_train)\n",
    "\n",
    "# Prediksi pada data testing\n",
    "y_test_pred = classifier.predict(X_test)\n",
    "\n",
    "# Hitung akurasi pada data training dan testing\n",
    "accuracy_train = accuracy_score(y_train, y_train_pred)\n",
    "accuracy_test = accuracy_score(y_test, y_test_pred)\n",
    "\n",
    "print(f'Training Accuracy: {accuracy_train:.2f}')\n",
    "print(f'Testing Accuracy: {accuracy_test:.2f}')\n",
    "\n",
    "# Menampilkan hasil prediksi pada data testing\n",
    "results_df = pd.DataFrame({\n",
    "    'File Index': X_test.index,\n",
    "    'Actual Genre': label_encoder.inverse_transform(y_test),\n",
    "    'Predicted Genre': label_encoder.inverse_transform(y_test_pred)\n",
    "})\n",
    "\n",
    "print(results_df.head(20))  # Tampilkan 20 baris pertama sebagai contoh\n",
    "\n",
    "# Tampilkan metrik evaluasi\n",
    "print('\\nClassification Report:')\n",
    "print(classification_report(y_test, y_test_pred, target_names=label_encoder.classes_))\n",
    "\n",
    "# Matriks kebingungan\n",
    "conf_matrix = confusion_matrix(y_test, y_test_pred)\n",
    "plt.figure(figsize=(10, 7))\n",
    "sns.heatmap(conf_matrix, annot=True, fmt='d', cmap='Blues', xticklabels=label_encoder.classes_, yticklabels=label_encoder.classes_)\n",
    "plt.xlabel('Predicted')\n",
    "plt.ylabel('True')\n",
    "plt.title('Confusion Matrix')\n",
    "plt.show()"
   ]
  },
  {
   "cell_type": "code",
   "execution_count": 10,
   "id": "bcb45b33",
   "metadata": {},
   "outputs": [
    {
     "data": {
      "image/png": "[encoded data removed]",
      "text/plain": [
       "<Figure size 1000x400 with 1 Axes>"
      ]
     },
     "metadata": {},
     "output_type": "display_data"
    }
   ],
   "source": [
    "import matplotlib.pyplot as plt\n",
    "import numpy as np\n",
    "\n",
    "# Data akurasi per fold\n",
    "folds = [1, 2, 3, 4, 5]\n",
    "accuracies = [0.50, 0.47, 0.48, 0.53, 0.50]\n",
    "\n",
    "plt.figure(figsize=(10, 4))\n",
    "plt.bar(folds, accuracies, color='b', alpha=0.7)\n",
    "plt.axhline(y=np.mean(accuracies), color='r', linestyle='--', label=f'Rata-rata Akurasi: {np.mean(accuracies):.2f}')\n",
    "plt.title('Akurasi per Fold dalam Cross-Validation')\n",
    "plt.xlabel('Fold')\n",
    "plt.ylabel('Akurasi')\n",
    "plt.xticks(folds)\n",
    "plt.ylim(0.4, 0.6)\n",
    "plt.legend()\n",
    "plt.grid(axis='y')\n",
    "plt.show()\n"
   ]
  },
  {
   "cell_type": "code",
   "execution_count": 12,
   "id": "c11e9d59",
   "metadata": {},
   "outputs": [
    {
     "name": "stderr",
     "output_type": "stream",
     "text": [
      "<__array_function__ internals>:180: VisibleDeprecationWarning: Creating an ndarray from ragged nested sequences (which is a list-or-tuple of lists-or-tuples-or ndarrays with different lengths or shapes) is deprecated. If you meant to do this, you must specify 'dtype=object' when creating the ndarray.\n"
     ]
    },
    {
     "name": "stdout",
     "output_type": "stream",
     "text": [
      "The predicted genre is: blues\n"
     ]
    },
    {
     "name": "stderr",
     "output_type": "stream",
     "text": [
      "C:\\Users\\Acer\\anaconda3\\lib\\site-packages\\sklearn\\base.py:420: UserWarning: X does not have valid feature names, but StandardScaler was fitted with feature names\n",
      "  warnings.warn(\n",
      "C:\\Users\\Acer\\anaconda3\\lib\\site-packages\\sklearn\\base.py:420: UserWarning: X does not have valid feature names, but DecisionTreeClassifier was fitted with feature names\n",
      "  warnings.warn(\n"
     ]
    }
   ],
   "source": [
    "import joblib\n",
    "import librosa\n",
    "import numpy as np\n",
    "import pandas as pd\n",
    "from sklearn.preprocessing import StandardScaler\n",
    "from sklearn.tree import DecisionTreeClassifier\n",
    "\n",
    "# Load scaler and model\n",
    "scaler = joblib.load('scaler.pkl')\n",
    "classifier = joblib.load('decision_tree_classifier.pkl')\n",
    "label_encoder = joblib.load('label_encoder.pkl')\n",
    "\n",
    "# Fungsi untuk ekstraksi fitur frekuensi\n",
    "def extract_frequency_features(y, sr, n_mfcc=20):\n",
    "    mfcc = librosa.feature.mfcc(y=y, sr=sr, n_mfcc=n_mfcc)\n",
    "    chroma = librosa.feature.chroma_stft(y=y, sr=sr)\n",
    "    spectral_contrast = librosa.feature.spectral_contrast(y=y, sr=sr)\n",
    "    spectral_centroid = librosa.feature.spectral_centroid(y=y, sr=sr)\n",
    "    return (\n",
    "        np.mean(mfcc.T, axis=0),\n",
    "        np.mean(chroma.T, axis=0),\n",
    "        np.mean(spectral_contrast.T, axis=0),\n",
    "        np.mean(spectral_centroid.T, axis=0)\n",
    "    )\n",
    "\n",
    "# Fungsi untuk ekstraksi fitur ritme\n",
    "def extract_rhythm_features(y, sr):\n",
    "    tempo, _ = librosa.beat.beat_track(y=y, sr=sr)\n",
    "    onset_env = librosa.onset.onset_strength(y=y, sr=sr)\n",
    "    return tempo, np.mean(onset_env), np.std(onset_env)\n",
    "\n",
    "# Fungsi untuk ekstraksi fitur F0\n",
    "def extract_f0_features(y, sr, f0_min=50, f0_max=400):\n",
    "    pitches, magnitudes = librosa.core.piptrack(y=y, sr=sr, fmin=f0_min, fmax=f0_max, threshold=0.75)\n",
    "    f0_values = [pitches[magnitudes[:, i].argmax(), i] for i in range(magnitudes.shape[1]) if magnitudes[:, i].any()]\n",
    "    if f0_values:\n",
    "        f0_mean = np.mean(f0_values)\n",
    "        f0_std = np.std(f0_values)\n",
    "    else:\n",
    "        f0_mean = 0\n",
    "        f0_std = 0\n",
    "    return f0_mean, f0_std\n",
    "\n",
    "# Fungsi untuk ekstraksi fitur gabungan\n",
    "def extract_features(y, sr, num_segments=5, n_mfcc=20, n_fft=2048, hop_length=512):\n",
    "    num_samples_per_segment = int(len(y) / num_segments)\n",
    "    all_features = []\n",
    "    \n",
    "    for s in range(num_segments):\n",
    "        start_sample = s * num_samples_per_segment\n",
    "        end_sample = start_sample + num_samples_per_segment\n",
    "        segment = y[start_sample:end_sample]\n",
    "        \n",
    "        # Ekstraksi fitur frekuensi\n",
    "        mfcc_mean, chroma_mean, spectral_contrast_mean, spectral_centroid_mean = extract_frequency_features(segment, sr, n_mfcc)\n",
    "        \n",
    "        # Ekstraksi fitur ritme\n",
    "        tempo, onset_env_mean, onset_env_std = extract_rhythm_features(segment, sr)\n",
    "        \n",
    "        # Ekstraksi fitur F0\n",
    "        f0_mean, f0_std = extract_f0_features(segment, sr)\n",
    "        \n",
    "        # Gabungkan semua fitur\n",
    "        features = np.concatenate([\n",
    "            mfcc_mean, chroma_mean, spectral_contrast_mean, spectral_centroid_mean, \n",
    "            [tempo, onset_env_mean, onset_env_std, f0_mean, f0_std]\n",
    "        ])\n",
    "        all_features.append(features)\n",
    "    \n",
    "    # Hitung rata-rata dari semua fitur di setiap segmen\n",
    "    all_features_mean = np.mean(all_features, axis=0)\n",
    "    return all_features_mean\n",
    "\n",
    "# Fungsi untuk mengklasifikasikan genre dari file audio\n",
    "def classify_genre(audio_file_path):\n",
    "    y, sr = librosa.load(audio_file_path, sr=None, duration=30)\n",
    "    features = extract_features(y, sr)\n",
    "    \n",
    "    # Normalisasi fitur\n",
    "    features_normalized = scaler.transform([features])\n",
    "    \n",
    "    # Prediksi genre\n",
    "    genre_encoded = classifier.predict(features_normalized)\n",
    "    genre = label_encoder.inverse_transform(genre_encoded)\n",
    "    \n",
    "    return genre[0]\n",
    "\n",
    "# penggunaan fungsi classify_genre\n",
    "audio_file_path = 'C:\\\\Users\\\\Acer\\\\Genre Classifier\\\\music\\\\Satu_SatuPop.wav'\n",
    "predicted_genre = classify_genre(audio_file_path)\n",
    "print(f'The predicted genre is: {predicted_genre}')\n"
   ]
  },
  {
   "cell_type": "code",
   "execution_count": 13,
   "id": "3658a93f",
   "metadata": {},
   "outputs": [
    {
     "name": "stderr",
     "output_type": "stream",
     "text": [
      "<__array_function__ internals>:180: VisibleDeprecationWarning: Creating an ndarray from ragged nested sequences (which is a list-or-tuple of lists-or-tuples-or ndarrays with different lengths or shapes) is deprecated. If you meant to do this, you must specify 'dtype=object' when creating the ndarray.\n",
      "C:\\Users\\Acer\\anaconda3\\lib\\site-packages\\sklearn\\base.py:420: UserWarning: X does not have valid feature names, but StandardScaler was fitted with feature names\n",
      "  warnings.warn(\n",
      "C:\\Users\\Acer\\anaconda3\\lib\\site-packages\\sklearn\\base.py:420: UserWarning: X does not have valid feature names, but DecisionTreeClassifier was fitted with feature names\n",
      "  warnings.warn(\n"
     ]
    },
    {
     "name": "stdout",
     "output_type": "stream",
     "text": [
      "File: C:\\Users\\Acer\\Genre Classifier\\music\\musik1.wav - Predicted Genre: classical\n"
     ]
    },
    {
     "name": "stderr",
     "output_type": "stream",
     "text": [
      "<__array_function__ internals>:180: VisibleDeprecationWarning: Creating an ndarray from ragged nested sequences (which is a list-or-tuple of lists-or-tuples-or ndarrays with different lengths or shapes) is deprecated. If you meant to do this, you must specify 'dtype=object' when creating the ndarray.\n",
      "C:\\Users\\Acer\\anaconda3\\lib\\site-packages\\sklearn\\base.py:420: UserWarning: X does not have valid feature names, but StandardScaler was fitted with feature names\n",
      "  warnings.warn(\n",
      "C:\\Users\\Acer\\anaconda3\\lib\\site-packages\\sklearn\\base.py:420: UserWarning: X does not have valid feature names, but DecisionTreeClassifier was fitted with feature names\n",
      "  warnings.warn(\n"
     ]
    },
    {
     "name": "stdout",
     "output_type": "stream",
     "text": [
      "File: C:\\Users\\Acer\\Genre Classifier\\music\\HoldMeTightReg.wav - Predicted Genre: classical\n"
     ]
    },
    {
     "name": "stderr",
     "output_type": "stream",
     "text": [
      "<__array_function__ internals>:180: VisibleDeprecationWarning: Creating an ndarray from ragged nested sequences (which is a list-or-tuple of lists-or-tuples-or ndarrays with different lengths or shapes) is deprecated. If you meant to do this, you must specify 'dtype=object' when creating the ndarray.\n",
      "C:\\Users\\Acer\\anaconda3\\lib\\site-packages\\sklearn\\base.py:420: UserWarning: X does not have valid feature names, but StandardScaler was fitted with feature names\n",
      "  warnings.warn(\n",
      "C:\\Users\\Acer\\anaconda3\\lib\\site-packages\\sklearn\\base.py:420: UserWarning: X does not have valid feature names, but DecisionTreeClassifier was fitted with feature names\n",
      "  warnings.warn(\n"
     ]
    },
    {
     "name": "stdout",
     "output_type": "stream",
     "text": [
      "File: C:\\Users\\Acer\\Genre Classifier\\music\\IndianSummerHip.wav - Predicted Genre: blues\n"
     ]
    },
    {
     "name": "stderr",
     "output_type": "stream",
     "text": [
      "<__array_function__ internals>:180: VisibleDeprecationWarning: Creating an ndarray from ragged nested sequences (which is a list-or-tuple of lists-or-tuples-or ndarrays with different lengths or shapes) is deprecated. If you meant to do this, you must specify 'dtype=object' when creating the ndarray.\n",
      "C:\\Users\\Acer\\anaconda3\\lib\\site-packages\\sklearn\\base.py:420: UserWarning: X does not have valid feature names, but StandardScaler was fitted with feature names\n",
      "  warnings.warn(\n",
      "C:\\Users\\Acer\\anaconda3\\lib\\site-packages\\sklearn\\base.py:420: UserWarning: X does not have valid feature names, but DecisionTreeClassifier was fitted with feature names\n",
      "  warnings.warn(\n"
     ]
    },
    {
     "name": "stdout",
     "output_type": "stream",
     "text": [
      "File: C:\\Users\\Acer\\Genre Classifier\\music\\CanonInDMajorClass.wav - Predicted Genre: jazz\n"
     ]
    },
    {
     "name": "stderr",
     "output_type": "stream",
     "text": [
      "<__array_function__ internals>:180: VisibleDeprecationWarning: Creating an ndarray from ragged nested sequences (which is a list-or-tuple of lists-or-tuples-or ndarrays with different lengths or shapes) is deprecated. If you meant to do this, you must specify 'dtype=object' when creating the ndarray.\n",
      "C:\\Users\\Acer\\anaconda3\\lib\\site-packages\\sklearn\\base.py:420: UserWarning: X does not have valid feature names, but StandardScaler was fitted with feature names\n",
      "  warnings.warn(\n",
      "C:\\Users\\Acer\\anaconda3\\lib\\site-packages\\sklearn\\base.py:420: UserWarning: X does not have valid feature names, but DecisionTreeClassifier was fitted with feature names\n",
      "  warnings.warn(\n"
     ]
    },
    {
     "name": "stdout",
     "output_type": "stream",
     "text": [
      "File: C:\\Users\\Acer\\Genre Classifier\\music\\cigarettesOfOursJazz.wav - Predicted Genre: disco\n"
     ]
    },
    {
     "name": "stderr",
     "output_type": "stream",
     "text": [
      "<__array_function__ internals>:180: VisibleDeprecationWarning: Creating an ndarray from ragged nested sequences (which is a list-or-tuple of lists-or-tuples-or ndarrays with different lengths or shapes) is deprecated. If you meant to do this, you must specify 'dtype=object' when creating the ndarray.\n",
      "C:\\Users\\Acer\\anaconda3\\lib\\site-packages\\sklearn\\base.py:420: UserWarning: X does not have valid feature names, but StandardScaler was fitted with feature names\n",
      "  warnings.warn(\n",
      "C:\\Users\\Acer\\anaconda3\\lib\\site-packages\\sklearn\\base.py:420: UserWarning: X does not have valid feature names, but DecisionTreeClassifier was fitted with feature names\n",
      "  warnings.warn(\n"
     ]
    },
    {
     "name": "stdout",
     "output_type": "stream",
     "text": [
      "File: C:\\Users\\Acer\\Genre Classifier\\music\\StairwayToHeavenRock.wav - Predicted Genre: classical\n"
     ]
    },
    {
     "name": "stderr",
     "output_type": "stream",
     "text": [
      "<__array_function__ internals>:180: VisibleDeprecationWarning: Creating an ndarray from ragged nested sequences (which is a list-or-tuple of lists-or-tuples-or ndarrays with different lengths or shapes) is deprecated. If you meant to do this, you must specify 'dtype=object' when creating the ndarray.\n",
      "C:\\Users\\Acer\\anaconda3\\lib\\site-packages\\sklearn\\base.py:420: UserWarning: X does not have valid feature names, but StandardScaler was fitted with feature names\n",
      "  warnings.warn(\n",
      "C:\\Users\\Acer\\anaconda3\\lib\\site-packages\\sklearn\\base.py:420: UserWarning: X does not have valid feature names, but DecisionTreeClassifier was fitted with feature names\n",
      "  warnings.warn(\n"
     ]
    },
    {
     "name": "stdout",
     "output_type": "stream",
     "text": [
      "File: C:\\Users\\Acer\\Genre Classifier\\music\\PsychosocialMetal.wav - Predicted Genre: metal\n"
     ]
    },
    {
     "name": "stderr",
     "output_type": "stream",
     "text": [
      "<__array_function__ internals>:180: VisibleDeprecationWarning: Creating an ndarray from ragged nested sequences (which is a list-or-tuple of lists-or-tuples-or ndarrays with different lengths or shapes) is deprecated. If you meant to do this, you must specify 'dtype=object' when creating the ndarray.\n",
      "C:\\Users\\Acer\\anaconda3\\lib\\site-packages\\sklearn\\base.py:420: UserWarning: X does not have valid feature names, but StandardScaler was fitted with feature names\n",
      "  warnings.warn(\n",
      "C:\\Users\\Acer\\anaconda3\\lib\\site-packages\\sklearn\\base.py:420: UserWarning: X does not have valid feature names, but DecisionTreeClassifier was fitted with feature names\n",
      "  warnings.warn(\n"
     ]
    },
    {
     "name": "stdout",
     "output_type": "stream",
     "text": [
      "File: C:\\Users\\Acer\\Genre Classifier\\music\\TheATeamPop.wav - Predicted Genre: jazz\n"
     ]
    },
    {
     "name": "stderr",
     "output_type": "stream",
     "text": [
      "<__array_function__ internals>:180: VisibleDeprecationWarning: Creating an ndarray from ragged nested sequences (which is a list-or-tuple of lists-or-tuples-or ndarrays with different lengths or shapes) is deprecated. If you meant to do this, you must specify 'dtype=object' when creating the ndarray.\n",
      "C:\\Users\\Acer\\anaconda3\\lib\\site-packages\\sklearn\\base.py:420: UserWarning: X does not have valid feature names, but StandardScaler was fitted with feature names\n",
      "  warnings.warn(\n",
      "C:\\Users\\Acer\\anaconda3\\lib\\site-packages\\sklearn\\base.py:420: UserWarning: X does not have valid feature names, but DecisionTreeClassifier was fitted with feature names\n",
      "  warnings.warn(\n"
     ]
    },
    {
     "name": "stdout",
     "output_type": "stream",
     "text": [
      "File: C:\\Users\\Acer\\Genre Classifier\\music\\Satu_SatuPop.wav - Predicted Genre: blues\n"
     ]
    },
    {
     "name": "stderr",
     "output_type": "stream",
     "text": [
      "<__array_function__ internals>:180: VisibleDeprecationWarning: Creating an ndarray from ragged nested sequences (which is a list-or-tuple of lists-or-tuples-or ndarrays with different lengths or shapes) is deprecated. If you meant to do this, you must specify 'dtype=object' when creating the ndarray.\n",
      "C:\\Users\\Acer\\anaconda3\\lib\\site-packages\\sklearn\\base.py:420: UserWarning: X does not have valid feature names, but StandardScaler was fitted with feature names\n",
      "  warnings.warn(\n",
      "C:\\Users\\Acer\\anaconda3\\lib\\site-packages\\sklearn\\base.py:420: UserWarning: X does not have valid feature names, but DecisionTreeClassifier was fitted with feature names\n",
      "  warnings.warn(\n"
     ]
    },
    {
     "name": "stdout",
     "output_type": "stream",
     "text": [
      "File: C:\\Users\\Acer\\Genre Classifier\\music\\BluesBoogieJam.wav - Predicted Genre: classical\n"
     ]
    },
    {
     "data": {
      "image/png": "[encoded data removed]",
      "text/plain": [
       "<Figure size 1000x600 with 1 Axes>"
      ]
     },
     "metadata": {},
     "output_type": "display_data"
    }
   ],
   "source": [
    "import matplotlib.pyplot as plt\n",
    "\n",
    "# Load the saved model and label encoder\n",
    "classifier = joblib.load('decision_tree_classifier.pkl')\n",
    "label_encoder = joblib.load('label_encoder.pkl')\n",
    "scaler = joblib.load('scaler.pkl')\n",
    "\n",
    "# Contoh 10 file lagu\n",
    "audio_files = [\n",
    "    'C:\\\\Users\\\\Acer\\\\Genre Classifier\\\\music\\\\musik1.wav',\n",
    "    'C:\\\\Users\\\\Acer\\\\Genre Classifier\\\\music\\\\HoldMeTightReg.wav',\n",
    "    'C:\\\\Users\\\\Acer\\\\Genre Classifier\\\\music\\\\IndianSummerHip.wav',\n",
    "    'C:\\\\Users\\\\Acer\\\\Genre Classifier\\\\music\\\\CanonInDMajorClass.wav',\n",
    "    'C:\\\\Users\\\\Acer\\\\Genre Classifier\\\\music\\\\cigarettesOfOursJazz.wav',\n",
    "    'C:\\\\Users\\\\Acer\\\\Genre Classifier\\\\music\\\\StairwayToHeavenRock.wav',\n",
    "    'C:\\\\Users\\\\Acer\\\\Genre Classifier\\\\music\\\\PsychosocialMetal.wav',\n",
    "    'C:\\\\Users\\\\Acer\\\\Genre Classifier\\\\music\\\\TheATeamPop.wav',\n",
    "    'C:\\\\Users\\\\Acer\\\\Genre Classifier\\\\music\\\\Satu_SatuPop.wav',\n",
    "    'C:\\\\Users\\\\Acer\\\\Genre Classifier\\\\music\\\\BluesBoogieJam.wav'\n",
    "]\n",
    "\n",
    "predicted_genres = []\n",
    "\n",
    "# Predict genre for each music file\n",
    "for audio_file in audio_files:\n",
    "    y, sr = librosa.load(audio_file, sr=None, duration=30)\n",
    "    feature_vector = extract_features(y, sr)\n",
    "    X = scaler.transform([feature_vector])\n",
    "    predicted_genre = label_encoder.inverse_transform(classifier.predict(X))[0]\n",
    "    predicted_genres.append(predicted_genre)\n",
    "    print(f'File: {audio_file} - Predicted Genre: {predicted_genre}')\n",
    "    \n",
    "# Visualization of predicted genres\n",
    "plt.figure(figsize=(10, 6))\n",
    "plt.barh(range(len(audio_files)), predicted_genres, align='center', alpha=0.8)\n",
    "plt.yticks(range(len(audio_files)), [f'Song {i+1}' for i in range(len(audio_files))])\n",
    "plt.xlabel('Predicted Genre')\n",
    "plt.title('Predicted Genre for 10 Songs')\n",
    "plt.show()\n"
   ]
  },
  {
   "cell_type": "code",
   "execution_count": 13,
   "id": "4535055f",
   "metadata": {},
   "outputs": [
    {
     "name": "stdout",
     "output_type": "stream",
     "text": [
      "Recording...\n",
      "Recording complete.\n"
     ]
    },
    {
     "name": "stderr",
     "output_type": "stream",
     "text": [
      "<__array_function__ internals>:180: VisibleDeprecationWarning: Creating an ndarray from ragged nested sequences (which is a list-or-tuple of lists-or-tuples-or ndarrays with different lengths or shapes) is deprecated. If you meant to do this, you must specify 'dtype=object' when creating the ndarray.\n"
     ]
    },
    {
     "name": "stdout",
     "output_type": "stream",
     "text": [
      "Predicted Genre: classical\n"
     ]
    },
    {
     "name": "stderr",
     "output_type": "stream",
     "text": [
      "C:\\Users\\Acer\\anaconda3\\lib\\site-packages\\sklearn\\base.py:420: UserWarning: X does not have valid feature names, but StandardScaler was fitted with feature names\n",
      "  warnings.warn(\n",
      "C:\\Users\\Acer\\anaconda3\\lib\\site-packages\\sklearn\\base.py:420: UserWarning: X does not have valid feature names, but DecisionTreeClassifier was fitted with feature names\n",
      "  warnings.warn(\n"
     ]
    }
   ],
   "source": [
    "import sounddevice as sd\n",
    "import librosa\n",
    "import numpy as np\n",
    "import joblib\n",
    "import pandas as pd\n",
    "\n",
    "# Load the saved model and scaler\n",
    "classifier = joblib.load('decision_tree_classifier.pkl')\n",
    "scaler = joblib.load('scaler.pkl')\n",
    "label_encoder = joblib.load('label_encoder.pkl')\n",
    "\n",
    "# Rekam audio menggunakan mikrofon\n",
    "def record_audio(duration=5, sr=22050):\n",
    "    print(\"Recording...\")\n",
    "    audio = sd.rec(int(duration * sr), samplerate=sr, channels=1)\n",
    "    sd.wait()  # Tunggu hingga rekaman selesai\n",
    "    audio = audio.flatten()\n",
    "    print(\"Recording complete.\")\n",
    "    return audio, sr\n",
    "\n",
    "# Ekstraksi fitur dari rekaman audio\n",
    "def extract_features_from_audio(y, sr, num_segments=5, n_mfcc=20, n_fft=2048, hop_length=512):\n",
    "    num_samples_per_segment = int(len(y) / num_segments)\n",
    "    all_features = []\n",
    "    \n",
    "    for s in range(num_segments):\n",
    "        start_sample = s * num_samples_per_segment\n",
    "        end_sample = start_sample + num_samples_per_segment\n",
    "        segment = y[start_sample:end_sample]\n",
    "        \n",
    "        # Ekstraksi fitur frekuensi\n",
    "        mfcc_mean, chroma_mean, spectral_contrast_mean, spectral_centroid_mean = extract_frequency_features(segment, sr, n_mfcc)\n",
    "        \n",
    "        # Ekstraksi fitur ritme\n",
    "        tempo, onset_env_mean, onset_env_std = extract_rhythm_features(segment, sr)\n",
    "        \n",
    "        # Ekstraksi fitur F0\n",
    "        f0_mean, f0_std = extract_f0_features(segment, sr)\n",
    "        \n",
    "        # Gabungkan semua fitur\n",
    "        features = np.concatenate([\n",
    "            mfcc_mean, chroma_mean, spectral_contrast_mean, spectral_centroid_mean, \n",
    "            [tempo, onset_env_mean, onset_env_std, f0_mean, f0_std]\n",
    "        ])\n",
    "        all_features.append(features)\n",
    "    \n",
    "    # Hitung rata-rata dari semua fitur di setiap segmen\n",
    "    all_features_mean = np.mean(all_features, axis=0)\n",
    "    return all_features_mean\n",
    "\n",
    "# Prediksi genre dari rekaman audio\n",
    "def predict_genre_from_audio(duration=5):\n",
    "    y, sr = record_audio(duration)\n",
    "    features = extract_features_from_audio(y, sr)\n",
    "    features = features.reshape(1, -1)  # Ubah ke bentuk 2D\n",
    "    features_normalized = scaler.transform(features)\n",
    "    prediction = classifier.predict(features_normalized)\n",
    "    genre = label_encoder.inverse_transform(prediction)[0]\n",
    "    return genre\n",
    "\n",
    "# Prediksi genre dari rekaman audio mikrofon\n",
    "predicted_genre = predict_genre_from_audio(duration=30)\n",
    "print(f\"Predicted Genre: {predicted_genre}\")\n"
   ]
  },
  {
   "cell_type": "code",
   "execution_count": null,
   "id": "ce86aaf4",
   "metadata": {},
   "outputs": [],
   "source": []
  }
 ],
 "metadata": {
  "kernelspec": {
   "display_name": "Python 3 (ipykernel)",
   "language": "python",
   "name": "python3"
  },
  "language_info": {
   "codemirror_mode": {
    "name": "ipython",
    "version": 3
   },
   "file_extension": ".py",
   "mimetype": "text/x-python",
   "name": "python",
   "nbconvert_exporter": "python",
   "pygments_lexer": "ipython3",
   "version": "3.10.9"
  }
 },
 "nbformat": 4,
 "nbformat_minor": 5
}
